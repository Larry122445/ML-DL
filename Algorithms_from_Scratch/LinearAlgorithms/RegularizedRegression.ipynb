{
 "cells": [
  {
   "cell_type": "code",
   "execution_count": 2,
   "metadata": {},
   "outputs": [],
   "source": [
    "import numpy as np \n",
    "import matplotlib.pyplot as plt \n",
    "import seaborn as sns"
   ]
  },
  {
   "cell_type": "code",
   "execution_count": 3,
   "metadata": {},
   "outputs": [],
   "source": [
    "#helper func for standardization and getting gradients in lasso Regression\n",
    "def standard_scalar(X):\n",
    "    mean = X.mean(0)\n",
    "    stds = X.std(0)\n",
    "    return (X-mean)/stds\n",
    "\n",
    "def sign(x,first_ele_zero=False):\n",
    "    signs = (-1)**(x<0)\n",
    "    if first_ele_zero:\n",
    "        signs[0] = 0\n",
    "    return signs    "
   ]
  },
  {
   "cell_type": "code",
   "execution_count": 4,
   "metadata": {},
   "outputs": [],
   "source": [
    "class RegularizedRegression:\n",
    "        \n",
    "    def _record_info(self, X, y, lam, intercept, standardize):\n",
    "        \n",
    "        # standardize \n",
    "        if standardize == True: \n",
    "            X = standard_scalar(X)\n",
    "        \n",
    "        # add intercept\n",
    "        if intercept == False: \n",
    "            ones = np.ones(len(X)).reshape(len(X), 1) # column of ones \n",
    "            X = np.concatenate((ones, X), axis = 1) # concatenate\n",
    "            \n",
    "        # record values\n",
    "        self.X = np.array(X)\n",
    "        self.y = np.array(y)\n",
    "        self.N, self.D = self.X.shape\n",
    "        self.lam = lam\n",
    "        \n",
    "    def fit_ridge(self, X, y, lam = 0, intercept = False, standardize = True):\n",
    "        \n",
    "        # record data and dimensions\n",
    "        self._record_info(X, y, lam, intercept, standardize)\n",
    "        \n",
    "        # estimate parameters\n",
    "        XtX = np.dot(self.X.T, self.X)\n",
    "        I_prime = np.eye(self.D)\n",
    "        I_prime[0,0] = 0 \n",
    "        XtX_plus_lam_inverse = np.linalg.inv(XtX + self.lam*I_prime)\n",
    "        Xty = np.dot(self.X.T, self.y)\n",
    "        self.beta_hats = np.dot(XtX_plus_lam_inverse, Xty)\n",
    "        \n",
    "        # get fitted values\n",
    "        self.y_hat = np.dot(self.X, self.beta_hats)\n",
    "        \n",
    "        \n",
    "    def fit_lasso(self, X, y, lam = 0, n_iters = 2000,\n",
    "                  lr = 0.0001, intercept = False, standardize = True):\n",
    "\n",
    "        # record data and dimensions\n",
    "        self._record_info(X, y, lam, intercept, standardize)\n",
    "        \n",
    "        # estimate parameters\n",
    "        beta_hats = np.random.randn(self.D)\n",
    "        for i in range(n_iters):\n",
    "            dL_dbeta = -self.X.T @ (self.y - (self.X @ beta_hats)) + self.lam*sign(beta_hats, True)\n",
    "            beta_hats -= lr*dL_dbeta \n",
    "        self.beta_hats = beta_hats\n",
    "        \n",
    "        # get fitted values\n",
    "        self.y_hat = np.dot(self.X, self.beta_hats)"
   ]
  },
  {
   "cell_type": "code",
   "execution_count": 5,
   "metadata": {},
   "outputs": [],
   "source": [
    "from sklearn.datasets import load_diabetes\n",
    "diab = load_diabetes()\n",
    "X  = diab['data']\n",
    "y = diab['target']"
   ]
  },
  {
   "cell_type": "code",
   "execution_count": 6,
   "metadata": {},
   "outputs": [
    {
     "data": {
      "text/plain": [
       "array([[ 0.03807591,  0.05068012,  0.06169621, ..., -0.00259226,\n",
       "         0.01990749, -0.01764613],\n",
       "       [-0.00188202, -0.04464164, -0.05147406, ..., -0.03949338,\n",
       "        -0.06833155, -0.09220405],\n",
       "       [ 0.08529891,  0.05068012,  0.04445121, ..., -0.00259226,\n",
       "         0.00286131, -0.02593034],\n",
       "       ...,\n",
       "       [ 0.04170844,  0.05068012, -0.01590626, ..., -0.01107952,\n",
       "        -0.04688253,  0.01549073],\n",
       "       [-0.04547248, -0.04464164,  0.03906215, ...,  0.02655962,\n",
       "         0.04452873, -0.02593034],\n",
       "       [-0.04547248, -0.04464164, -0.0730303 , ..., -0.03949338,\n",
       "        -0.00422151,  0.00306441]])"
      ]
     },
     "execution_count": 6,
     "metadata": {},
     "output_type": "execute_result"
    }
   ],
   "source": [
    "X"
   ]
  },
  {
   "cell_type": "code",
   "execution_count": 7,
   "metadata": {},
   "outputs": [],
   "source": [
    "ridge_model = RegularizedRegression()\n",
    "ridge_model.fit_ridge(X,y,lam=10)"
   ]
  },
  {
   "cell_type": "code",
   "execution_count": 8,
   "metadata": {},
   "outputs": [],
   "source": [
    "lasso_model = RegularizedRegression()\n",
    "lasso_model.fit_lasso(X,y,lam=10)"
   ]
  },
  {
   "cell_type": "code",
   "execution_count": 9,
   "metadata": {},
   "outputs": [],
   "source": [
    "sns.set()"
   ]
  },
  {
   "cell_type": "markdown",
   "metadata": {},
   "source": [
    "Formula 2"
   ]
  },
  {
   "cell_type": "code",
   "execution_count": null,
   "metadata": {},
   "outputs": [],
   "source": [
    "class Regularized:\n",
    "    def __init__(self,lr,n_iters):\n",
    "        self.lr = lr\n",
    "        self.n_iters = n_iters\n",
    "        self.lambda_reg = 0.1\n",
    "        self.w,self.b = None,None\n",
    "        \n",
    "    def fit_lasso(self,X,y):\n",
    "        n_samples,n_features = X.shape \n",
    "        self.w = np.zeros(n_features)\n",
    "        self.b = 0\n",
    "        \n",
    "        for _ in range(self.n_iters):\n",
    "            pred = np.dot(X ,self.w )+ self.b \n",
    "            dw = (1/n_samples) * np.dot(X.T,(pred-y)) + self.lambda_reg * np.sign(self.w)\n",
    "            db = (1/n_samples) * np.sum(pred-y)\n",
    "            \n",
    "            self.w -= self.lr * dw \n",
    "            self.b -= self.lr * db \n",
    "\n",
    "        \n",
    "        self.prediction =  np.dot(X,self.w) + self.b \n",
    "        return self.w,self.b \n",
    "            \n",
    "    def fit_ridge(self,X,y):\n",
    "        n_samples,n_features = X.shape \n",
    "        self.w = np.zeros(n_features)\n",
    "        self.b = 0\n",
    "        \n",
    "        for _ in range(self.n_iters):\n",
    "            pred =np.dot(X ,self.w )+ self.b \n",
    "            dw = (1/n_samples) * np.dot(X.T,(pred-y)) + self.lambda_reg * self.w\n",
    "            db = (1/n_samples) * np.sum(pred-y)\n",
    "            \n",
    "            self.w -= self.lr * dw \n",
    "            self.b -= self.lr * db \n",
    "            \n",
    "        self.prediction =  X * self.w + self.b \n",
    "        return self.w,self.b    "
   ]
  }
 ],
 "metadata": {
  "kernelspec": {
   "display_name": "'test'",
   "language": "python",
   "name": "test"
  },
  "language_info": {
   "codemirror_mode": {
    "name": "ipython",
    "version": 3
   },
   "file_extension": ".py",
   "mimetype": "text/x-python",
   "name": "python",
   "nbconvert_exporter": "python",
   "pygments_lexer": "ipython3",
   "version": "3.11.5"
  }
 },
 "nbformat": 4,
 "nbformat_minor": 2
}
