{
 "cells": [
  {
   "cell_type": "code",
   "execution_count": 1,
   "id": "12b5424e",
   "metadata": {},
   "outputs": [],
   "source": [
    "import numpy as np"
   ]
  },
  {
   "cell_type": "markdown",
   "id": "511d05a6",
   "metadata": {},
   "source": [
    "# Creating np arrays\n"
   ]
  },
  {
   "cell_type": "code",
   "execution_count": 2,
   "id": "50d6fd12",
   "metadata": {},
   "outputs": [],
   "source": [
    "data = [[1,2,3,4],[3,4,5,6]]\n",
    "arr = np.array(data)#change data to numpy array"
   ]
  },
  {
   "cell_type": "code",
   "execution_count": 3,
   "id": "516fd79c",
   "metadata": {},
   "outputs": [
    {
     "data": {
      "text/plain": [
       "array([[1, 2, 3, 4],\n",
       "       [3, 4, 5, 6]])"
      ]
     },
     "execution_count": 3,
     "metadata": {},
     "output_type": "execute_result"
    }
   ],
   "source": [
    "arr"
   ]
  },
  {
   "cell_type": "code",
   "execution_count": 4,
   "id": "dbbb6da0",
   "metadata": {},
   "outputs": [
    {
     "data": {
      "text/plain": [
       "(2, 4)"
      ]
     },
     "execution_count": 4,
     "metadata": {},
     "output_type": "execute_result"
    }
   ],
   "source": [
    "arr.shape# check shape\n",
    "#(row,col)"
   ]
  },
  {
   "cell_type": "code",
   "execution_count": 5,
   "id": "e6658fd0",
   "metadata": {},
   "outputs": [
    {
     "data": {
      "text/plain": [
       "dtype('int32')"
      ]
     },
     "execution_count": 5,
     "metadata": {},
     "output_type": "execute_result"
    }
   ],
   "source": [
    "arr.dtype # check datatype"
   ]
  },
  {
   "cell_type": "code",
   "execution_count": 6,
   "id": "3e4b9dc3",
   "metadata": {},
   "outputs": [
    {
     "data": {
      "text/plain": [
       "array([0., 0., 0., 0., 0., 0., 0., 0., 0., 0.])"
      ]
     },
     "execution_count": 6,
     "metadata": {},
     "output_type": "execute_result"
    }
   ],
   "source": [
    "arr2 = np.zeros(10)#0s\n",
    "arr2"
   ]
  },
  {
   "cell_type": "code",
   "execution_count": 7,
   "id": "7938a07a",
   "metadata": {},
   "outputs": [
    {
     "data": {
      "text/plain": [
       "array([1., 1., 1., 1., 1., 1., 1., 1., 1., 1.])"
      ]
     },
     "execution_count": 7,
     "metadata": {},
     "output_type": "execute_result"
    }
   ],
   "source": [
    "arr3 = np.ones(10)\n",
    "arr3"
   ]
  },
  {
   "cell_type": "code",
   "execution_count": 8,
   "id": "afa4e3e8",
   "metadata": {},
   "outputs": [],
   "source": [
    "#with Specified shape\n",
    "arr4 = np.zeros((3,6))"
   ]
  },
  {
   "cell_type": "code",
   "execution_count": 9,
   "id": "883e6a84",
   "metadata": {},
   "outputs": [
    {
     "data": {
      "text/plain": [
       "array([[0., 0., 0., 0., 0., 0.],\n",
       "       [0., 0., 0., 0., 0., 0.],\n",
       "       [0., 0., 0., 0., 0., 0.]])"
      ]
     },
     "execution_count": 9,
     "metadata": {},
     "output_type": "execute_result"
    }
   ],
   "source": [
    "arr4"
   ]
  },
  {
   "cell_type": "code",
   "execution_count": 10,
   "id": "623772ae",
   "metadata": {},
   "outputs": [
    {
     "data": {
      "text/plain": [
       "array([[[1.07583361e-311, 3.16202013e-322],\n",
       "        [0.00000000e+000, 0.00000000e+000],\n",
       "        [1.33511018e-306, 1.43863363e-051]],\n",
       "\n",
       "       [[1.52144404e-051, 1.79543752e-052],\n",
       "        [6.52402061e-038, 3.73622517e-061],\n",
       "        [9.60789789e-071, 2.21298185e-052]]])"
      ]
     },
     "execution_count": 10,
     "metadata": {},
     "output_type": "execute_result"
    }
   ],
   "source": [
    "#  for uninitialzed array\n",
    "np.empty((2,3,2))"
   ]
  },
  {
   "cell_type": "code",
   "execution_count": 11,
   "id": "0cee6a6e",
   "metadata": {},
   "outputs": [
    {
     "data": {
      "text/plain": [
       "array([ 0,  1,  2,  3,  4,  5,  6,  7,  8,  9, 10, 11, 12, 13, 14])"
      ]
     },
     "execution_count": 11,
     "metadata": {},
     "output_type": "execute_result"
    }
   ],
   "source": [
    "range_array = np.arange(15)# similar to range function in python\n",
    "range_array"
   ]
  },
  {
   "cell_type": "markdown",
   "id": "cc9c399a",
   "metadata": {},
   "source": [
    "# Datatypes"
   ]
  },
  {
   "cell_type": "code",
   "execution_count": 12,
   "id": "b57b1ef2",
   "metadata": {},
   "outputs": [],
   "source": [
    "arr5 = np.array([2,3,4,5])"
   ]
  },
  {
   "cell_type": "code",
   "execution_count": 13,
   "id": "db882838",
   "metadata": {},
   "outputs": [
    {
     "data": {
      "text/plain": [
       "array([2, 3, 4, 5])"
      ]
     },
     "execution_count": 13,
     "metadata": {},
     "output_type": "execute_result"
    }
   ],
   "source": [
    "arr5"
   ]
  },
  {
   "cell_type": "code",
   "execution_count": 14,
   "id": "5e5f0fc5",
   "metadata": {},
   "outputs": [
    {
     "data": {
      "text/plain": [
       "dtype('int32')"
      ]
     },
     "execution_count": 14,
     "metadata": {},
     "output_type": "execute_result"
    }
   ],
   "source": [
    "arr5.dtype"
   ]
  },
  {
   "cell_type": "code",
   "execution_count": 15,
   "id": "2624565b",
   "metadata": {},
   "outputs": [
    {
     "data": {
      "text/plain": [
       "array([2., 3., 4., 5.])"
      ]
     },
     "execution_count": 15,
     "metadata": {},
     "output_type": "execute_result"
    }
   ],
   "source": [
    "arr5.astype(float)# astype changes datatypes"
   ]
  },
  {
   "cell_type": "code",
   "execution_count": 16,
   "id": "842315e5",
   "metadata": {},
   "outputs": [
    {
     "data": {
      "text/plain": [
       "array([0., 1., 2., 3., 4., 5., 6., 7., 8., 9.])"
      ]
     },
     "execution_count": 16,
     "metadata": {},
     "output_type": "execute_result"
    }
   ],
   "source": [
    "#use another arrays datatype\n",
    "int_arr = np.arange(10)\n",
    "calibers = np.array([.2,.3,.5],dtype=np.float64)\n",
    "int_arr.astype(calibers.dtype)"
   ]
  },
  {
   "cell_type": "markdown",
   "id": "cd173c62",
   "metadata": {},
   "source": [
    "# Numpy Arithmetics"
   ]
  },
  {
   "cell_type": "code",
   "execution_count": 17,
   "id": "dd7d3fab",
   "metadata": {},
   "outputs": [],
   "source": [
    "arr6 = np.array([[1,2,3],[4,5,6]])\n"
   ]
  },
  {
   "cell_type": "code",
   "execution_count": 18,
   "id": "db7e54e7",
   "metadata": {},
   "outputs": [
    {
     "data": {
      "text/plain": [
       "array([[ 2,  4,  6],\n",
       "       [ 8, 10, 12]])"
      ]
     },
     "execution_count": 18,
     "metadata": {},
     "output_type": "execute_result"
    }
   ],
   "source": [
    "#Addition\n",
    "arr6 + arr6"
   ]
  },
  {
   "cell_type": "code",
   "execution_count": 19,
   "id": "00fb0dee",
   "metadata": {},
   "outputs": [
    {
     "data": {
      "text/plain": [
       "array([[0, 0, 0],\n",
       "       [0, 0, 0]])"
      ]
     },
     "execution_count": 19,
     "metadata": {},
     "output_type": "execute_result"
    }
   ],
   "source": [
    "# subtraction\n",
    "arr6 - arr6 "
   ]
  },
  {
   "cell_type": "code",
   "execution_count": 20,
   "id": "30a9f065",
   "metadata": {},
   "outputs": [
    {
     "data": {
      "text/plain": [
       "array([[ 1,  4,  9],\n",
       "       [16, 25, 36]])"
      ]
     },
     "execution_count": 20,
     "metadata": {},
     "output_type": "execute_result"
    }
   ],
   "source": [
    "#multiplication\n",
    "arr6 * arr6"
   ]
  },
  {
   "cell_type": "code",
   "execution_count": 21,
   "id": "df13c464",
   "metadata": {},
   "outputs": [
    {
     "data": {
      "text/plain": [
       "array([[ True,  True,  True,  True],\n",
       "       [False, False, False, False]])"
      ]
     },
     "execution_count": 21,
     "metadata": {},
     "output_type": "execute_result"
    }
   ],
   "source": [
    "#Comparisons\n",
    "arr5 > arr"
   ]
  },
  {
   "cell_type": "markdown",
   "id": "d377c8bf",
   "metadata": {},
   "source": [
    "# Indexing and Slicing"
   ]
  },
  {
   "cell_type": "code",
   "execution_count": 22,
   "id": "d3b6d46d",
   "metadata": {},
   "outputs": [
    {
     "data": {
      "text/plain": [
       "5"
      ]
     },
     "execution_count": 22,
     "metadata": {},
     "output_type": "execute_result"
    }
   ],
   "source": [
    "range_array[5]# 5th element"
   ]
  },
  {
   "cell_type": "code",
   "execution_count": 23,
   "id": "0f19a0a2",
   "metadata": {},
   "outputs": [
    {
     "data": {
      "text/plain": [
       "array([5, 6, 7])"
      ]
     },
     "execution_count": 23,
     "metadata": {},
     "output_type": "execute_result"
    }
   ],
   "source": [
    "range_array[5:8]"
   ]
  },
  {
   "cell_type": "code",
   "execution_count": 24,
   "id": "0f4302bc",
   "metadata": {},
   "outputs": [],
   "source": [
    "range_array[5:8] = 12# change values in this range to 12"
   ]
  },
  {
   "cell_type": "code",
   "execution_count": 25,
   "id": "cf34c2e2",
   "metadata": {},
   "outputs": [
    {
     "data": {
      "text/plain": [
       "array([ 0,  1,  2,  3,  4, 12, 12, 12,  8,  9, 10, 11, 12, 13, 14])"
      ]
     },
     "execution_count": 25,
     "metadata": {},
     "output_type": "execute_result"
    }
   ],
   "source": [
    "range_array"
   ]
  },
  {
   "cell_type": "code",
   "execution_count": 26,
   "id": "660a2f22",
   "metadata": {},
   "outputs": [],
   "source": [
    "array_slice = range_array[5:8]"
   ]
  },
  {
   "cell_type": "code",
   "execution_count": 27,
   "id": "291744d4",
   "metadata": {},
   "outputs": [
    {
     "data": {
      "text/plain": [
       "array([12, 12, 12])"
      ]
     },
     "execution_count": 27,
     "metadata": {},
     "output_type": "execute_result"
    }
   ],
   "source": [
    "array_slice"
   ]
  },
  {
   "cell_type": "code",
   "execution_count": 28,
   "id": "d9d5ad99",
   "metadata": {},
   "outputs": [
    {
     "data": {
      "text/plain": [
       "array([ 0,  1,  2,  3,  4, 12, 12, 12,  8,  9, 10, 11, 12, 13, 14])"
      ]
     },
     "execution_count": 28,
     "metadata": {},
     "output_type": "execute_result"
    }
   ],
   "source": [
    "range_array[:]# list all arrays"
   ]
  },
  {
   "cell_type": "code",
   "execution_count": 29,
   "id": "083b8d05",
   "metadata": {},
   "outputs": [
    {
     "data": {
      "text/plain": [
       "2"
      ]
     },
     "execution_count": 29,
     "metadata": {},
     "output_type": "execute_result"
    }
   ],
   "source": [
    "#working with arr6 \n",
    "arr6[0][1]"
   ]
  },
  {
   "cell_type": "code",
   "execution_count": 30,
   "id": "df065293",
   "metadata": {},
   "outputs": [
    {
     "data": {
      "text/plain": [
       "array([[1, 2, 3]])"
      ]
     },
     "execution_count": 30,
     "metadata": {},
     "output_type": "execute_result"
    }
   ],
   "source": [
    "arr6[:1]"
   ]
  },
  {
   "cell_type": "code",
   "execution_count": 31,
   "id": "3c6384ac",
   "metadata": {},
   "outputs": [
    {
     "data": {
      "text/plain": [
       "array([[2, 3]])"
      ]
     },
     "execution_count": 31,
     "metadata": {},
     "output_type": "execute_result"
    }
   ],
   "source": [
    "arr6[:1,1:]"
   ]
  },
  {
   "cell_type": "code",
   "execution_count": 32,
   "id": "a3d3b238",
   "metadata": {},
   "outputs": [
    {
     "data": {
      "text/plain": [
       "array([[1, 2, 3],\n",
       "       [4, 5, 6]])"
      ]
     },
     "execution_count": 32,
     "metadata": {},
     "output_type": "execute_result"
    }
   ],
   "source": [
    "arr6"
   ]
  },
  {
   "cell_type": "code",
   "execution_count": 33,
   "id": "e1725174",
   "metadata": {},
   "outputs": [
    {
     "data": {
      "text/plain": [
       "array([4, 5])"
      ]
     },
     "execution_count": 33,
     "metadata": {},
     "output_type": "execute_result"
    }
   ],
   "source": [
    "arr6[1,:2]# 2nd row and first 2 cols"
   ]
  },
  {
   "cell_type": "code",
   "execution_count": 100,
   "id": "7143a1a2",
   "metadata": {},
   "outputs": [
    {
     "data": {
      "text/plain": [
       "array([[1, 0, 0],\n",
       "       [4, 5, 6]])"
      ]
     },
     "execution_count": 100,
     "metadata": {},
     "output_type": "execute_result"
    }
   ],
   "source": [
    "arr6"
   ]
  },
  {
   "cell_type": "code",
   "execution_count": 34,
   "id": "caf45816",
   "metadata": {},
   "outputs": [
    {
     "data": {
      "text/plain": [
       "array([[1],\n",
       "       [4]])"
      ]
     },
     "execution_count": 34,
     "metadata": {},
     "output_type": "execute_result"
    }
   ],
   "source": [
    "arr6[:,:1]"
   ]
  },
  {
   "cell_type": "code",
   "execution_count": 35,
   "id": "38a1a9a4",
   "metadata": {},
   "outputs": [],
   "source": [
    "arr6[:1,1:] = 0"
   ]
  },
  {
   "cell_type": "code",
   "execution_count": 36,
   "id": "841f5109",
   "metadata": {},
   "outputs": [
    {
     "data": {
      "text/plain": [
       "array([[1, 0, 0],\n",
       "       [4, 5, 6]])"
      ]
     },
     "execution_count": 36,
     "metadata": {},
     "output_type": "execute_result"
    }
   ],
   "source": [
    "arr6"
   ]
  },
  {
   "cell_type": "code",
   "execution_count": 37,
   "id": "e97fea20",
   "metadata": {},
   "outputs": [
    {
     "data": {
      "text/plain": [
       "array([[4, 5, 6]])"
      ]
     },
     "execution_count": 37,
     "metadata": {},
     "output_type": "execute_result"
    }
   ],
   "source": [
    "arr6[1:,:]"
   ]
  },
  {
   "cell_type": "markdown",
   "id": "48d4d8c0",
   "metadata": {},
   "source": [
    "# boolean indexing"
   ]
  },
  {
   "cell_type": "code",
   "execution_count": 38,
   "id": "e88ab816",
   "metadata": {},
   "outputs": [
    {
     "data": {
      "text/plain": [
       "array([[4, 7],\n",
       "       [0, 0]])"
      ]
     },
     "execution_count": 38,
     "metadata": {},
     "output_type": "execute_result"
    }
   ],
   "source": [
    "#names corressponding to data\n",
    "names = np.array([\"Bob\", \"Joe\", \"Will\", \"Bob\", \"Will\", \"Joe\", \"Joe\"])\n",
    "data = np.array([[4, 7], [0, 2], [-5, 6], [0, 0], [1, 2],[-12, -4], [3, 4]])    \n",
    "data[names=='Bob']    "
   ]
  },
  {
   "cell_type": "code",
   "execution_count": 39,
   "id": "1ce2b652",
   "metadata": {},
   "outputs": [
    {
     "data": {
      "text/plain": [
       "array([ True, False, False,  True, False, False, False])"
      ]
     },
     "execution_count": 39,
     "metadata": {},
     "output_type": "execute_result"
    }
   ],
   "source": [
    "names=='Bob'"
   ]
  },
  {
   "cell_type": "code",
   "execution_count": 40,
   "id": "28b7da5d",
   "metadata": {},
   "outputs": [
    {
     "data": {
      "text/plain": [
       "array([[4],\n",
       "       [0]])"
      ]
     },
     "execution_count": 40,
     "metadata": {},
     "output_type": "execute_result"
    }
   ],
   "source": [
    "data[names=='Bob',:1]"
   ]
  },
  {
   "cell_type": "code",
   "execution_count": 41,
   "id": "8c758e31",
   "metadata": {},
   "outputs": [
    {
     "data": {
      "text/plain": [
       "array([[  0,   2],\n",
       "       [ -5,   6],\n",
       "       [  1,   2],\n",
       "       [-12,  -4],\n",
       "       [  3,   4]])"
      ]
     },
     "execution_count": 41,
     "metadata": {},
     "output_type": "execute_result"
    }
   ],
   "source": [
    "data[names!='Bob']"
   ]
  },
  {
   "cell_type": "code",
   "execution_count": 42,
   "id": "ed00f03d",
   "metadata": {},
   "outputs": [],
   "source": [
    "data[data<0]=0 #change the negative numbers to zero"
   ]
  },
  {
   "cell_type": "code",
   "execution_count": 43,
   "id": "c36b7b2b",
   "metadata": {},
   "outputs": [
    {
     "data": {
      "text/plain": [
       "array([[4, 7],\n",
       "       [0, 2],\n",
       "       [0, 6],\n",
       "       [0, 0],\n",
       "       [1, 2],\n",
       "       [0, 0],\n",
       "       [3, 4]])"
      ]
     },
     "execution_count": 43,
     "metadata": {},
     "output_type": "execute_result"
    }
   ],
   "source": [
    "data"
   ]
  },
  {
   "cell_type": "code",
   "execution_count": 44,
   "id": "0d1a1560",
   "metadata": {},
   "outputs": [
    {
     "data": {
      "text/plain": [
       "array([[7, 7],\n",
       "       [0, 2],\n",
       "       [7, 7],\n",
       "       [7, 7],\n",
       "       [7, 7],\n",
       "       [0, 0],\n",
       "       [3, 4]])"
      ]
     },
     "execution_count": 44,
     "metadata": {},
     "output_type": "execute_result"
    }
   ],
   "source": [
    "data[names!='Joe'] = 7\n",
    "data"
   ]
  },
  {
   "cell_type": "markdown",
   "id": "705e71f7",
   "metadata": {},
   "source": [
    "# Fancy indexing "
   ]
  },
  {
   "cell_type": "code",
   "execution_count": 45,
   "id": "43dcea0c",
   "metadata": {},
   "outputs": [],
   "source": [
    "#Fancy indexing is a term adopted by NumPy to describe indexing using integer arrays.\n",
    "arr =  np.zeros((8,4))\n",
    "for i in range(8):\n",
    "    arr[i]=i"
   ]
  },
  {
   "cell_type": "code",
   "execution_count": 46,
   "id": "947de0e5",
   "metadata": {},
   "outputs": [
    {
     "data": {
      "text/plain": [
       "array([[0., 0., 0., 0.],\n",
       "       [1., 1., 1., 1.],\n",
       "       [2., 2., 2., 2.],\n",
       "       [3., 3., 3., 3.],\n",
       "       [4., 4., 4., 4.],\n",
       "       [5., 5., 5., 5.],\n",
       "       [6., 6., 6., 6.],\n",
       "       [7., 7., 7., 7.]])"
      ]
     },
     "execution_count": 46,
     "metadata": {},
     "output_type": "execute_result"
    }
   ],
   "source": [
    "arr"
   ]
  },
  {
   "cell_type": "code",
   "execution_count": 47,
   "id": "ca9ccacc",
   "metadata": {},
   "outputs": [
    {
     "data": {
      "text/plain": [
       "array([[4., 4., 4., 4.],\n",
       "       [3., 3., 3., 3.],\n",
       "       [2., 2., 2., 2.],\n",
       "       [1., 1., 1., 1.]])"
      ]
     },
     "execution_count": 47,
     "metadata": {},
     "output_type": "execute_result"
    }
   ],
   "source": [
    "arr[[4,3,2,1]]"
   ]
  },
  {
   "cell_type": "code",
   "execution_count": 48,
   "id": "d37f04c4",
   "metadata": {},
   "outputs": [
    {
     "data": {
      "text/plain": [
       "array([[5., 5., 5., 5.],\n",
       "       [3., 3., 3., 3.],\n",
       "       [1., 1., 1., 1.]])"
      ]
     },
     "execution_count": 48,
     "metadata": {},
     "output_type": "execute_result"
    }
   ],
   "source": [
    "arr[[-3,-5,-7]]# negative values select from end "
   ]
  },
  {
   "cell_type": "code",
   "execution_count": 49,
   "id": "c25e2188",
   "metadata": {},
   "outputs": [],
   "source": [
    "arrx = np.arange(32).reshape((8,4))"
   ]
  },
  {
   "cell_type": "code",
   "execution_count": 50,
   "id": "a9e6788d",
   "metadata": {},
   "outputs": [
    {
     "data": {
      "text/plain": [
       "array([[ 0,  1,  2,  3],\n",
       "       [ 4,  5,  6,  7],\n",
       "       [ 8,  9, 10, 11],\n",
       "       [12, 13, 14, 15],\n",
       "       [16, 17, 18, 19],\n",
       "       [20, 21, 22, 23],\n",
       "       [24, 25, 26, 27],\n",
       "       [28, 29, 30, 31]])"
      ]
     },
     "execution_count": 50,
     "metadata": {},
     "output_type": "execute_result"
    }
   ],
   "source": [
    "arrx"
   ]
  },
  {
   "cell_type": "code",
   "execution_count": 51,
   "id": "55fd1b7a",
   "metadata": {},
   "outputs": [
    {
     "data": {
      "text/plain": [
       "array([ 4, 23, 29, 10])"
      ]
     },
     "execution_count": 51,
     "metadata": {},
     "output_type": "execute_result"
    }
   ],
   "source": [
    "arrx[[1, 5, 7, 2], [0, 3, 1, 2]]#Here the elements (1, 0), (5, 3), (7, 1), and (2, 2) were selected."
   ]
  },
  {
   "cell_type": "code",
   "execution_count": 52,
   "id": "5d3bbd0b",
   "metadata": {},
   "outputs": [],
   "source": [
    "arrx[[1, 5, 7, 2], [0, 3, 1, 2]] = 0"
   ]
  },
  {
   "cell_type": "code",
   "execution_count": 53,
   "id": "e4c5e847",
   "metadata": {},
   "outputs": [
    {
     "data": {
      "text/plain": [
       "array([[ 0,  1,  2,  3],\n",
       "       [ 0,  5,  6,  7],\n",
       "       [ 8,  9,  0, 11],\n",
       "       [12, 13, 14, 15],\n",
       "       [16, 17, 18, 19],\n",
       "       [20, 21, 22,  0],\n",
       "       [24, 25, 26, 27],\n",
       "       [28,  0, 30, 31]])"
      ]
     },
     "execution_count": 53,
     "metadata": {},
     "output_type": "execute_result"
    }
   ],
   "source": [
    "arrx"
   ]
  },
  {
   "cell_type": "markdown",
   "id": "4dfdefb2",
   "metadata": {},
   "source": [
    "# Tranposing Arrays and Swapping Axes"
   ]
  },
  {
   "cell_type": "code",
   "execution_count": 54,
   "id": "92511ea1",
   "metadata": {},
   "outputs": [
    {
     "data": {
      "text/plain": [
       "array([[ 0,  0,  8, 12, 16, 20, 24, 28],\n",
       "       [ 1,  5,  9, 13, 17, 21, 25,  0],\n",
       "       [ 2,  6,  0, 14, 18, 22, 26, 30],\n",
       "       [ 3,  7, 11, 15, 19,  0, 27, 31]])"
      ]
     },
     "execution_count": 54,
     "metadata": {},
     "output_type": "execute_result"
    }
   ],
   "source": [
    "arrx.T # col 1 becomes row 1 etc"
   ]
  },
  {
   "cell_type": "code",
   "execution_count": 55,
   "id": "23c29f89",
   "metadata": {},
   "outputs": [
    {
     "data": {
      "text/plain": [
       "array([[ 0,  0,  8, 12, 16, 20, 24, 28],\n",
       "       [ 1,  5,  9, 13, 17, 21, 25,  0],\n",
       "       [ 2,  6,  0, 14, 18, 22, 26, 30],\n",
       "       [ 3,  7, 11, 15, 19,  0, 27, 31]])"
      ]
     },
     "execution_count": 55,
     "metadata": {},
     "output_type": "execute_result"
    }
   ],
   "source": [
    "arrx.swapaxes(0,1)"
   ]
  },
  {
   "cell_type": "markdown",
   "id": "5f055a36",
   "metadata": {},
   "source": [
    "# Pseudorandom Number Generation"
   ]
  },
  {
   "cell_type": "code",
   "execution_count": 56,
   "id": "8ae0520f",
   "metadata": {},
   "outputs": [],
   "source": [
    "new_arr = np.random.standard_normal(size=(4,4))"
   ]
  },
  {
   "cell_type": "code",
   "execution_count": 57,
   "id": "277433fd",
   "metadata": {},
   "outputs": [
    {
     "data": {
      "text/plain": [
       "array([[ 0.39788547,  1.30086882, -1.36929915, -0.34120282],\n",
       "       [ 0.54502836,  1.16472424, -0.16728421, -0.25144097],\n",
       "       [ 0.60490018, -1.41002725,  0.05398699, -0.51104698],\n",
       "       [ 0.25996801,  0.24643448,  1.23627992,  0.72959109]])"
      ]
     },
     "execution_count": 57,
     "metadata": {},
     "output_type": "execute_result"
    }
   ],
   "source": [
    "new_arr"
   ]
  },
  {
   "cell_type": "code",
   "execution_count": 58,
   "id": "ddac4bca",
   "metadata": {},
   "outputs": [],
   "source": [
    "rng = np.random.default_rng(seed=12345)"
   ]
  },
  {
   "cell_type": "code",
   "execution_count": 59,
   "id": "e8172df1",
   "metadata": {},
   "outputs": [],
   "source": [
    "data = rng.standard_normal((2,3))"
   ]
  },
  {
   "cell_type": "code",
   "execution_count": 60,
   "id": "5c8af655",
   "metadata": {},
   "outputs": [
    {
     "data": {
      "text/plain": [
       "array([[-1.42382504,  1.26372846, -0.87066174],\n",
       "       [-0.25917323, -0.07534331, -0.74088465]])"
      ]
     },
     "execution_count": 60,
     "metadata": {},
     "output_type": "execute_result"
    }
   ],
   "source": [
    "data"
   ]
  },
  {
   "cell_type": "code",
   "execution_count": 61,
   "id": "2ccb29a3",
   "metadata": {},
   "outputs": [
    {
     "data": {
      "text/plain": [
       "numpy.random._generator.Generator"
      ]
     },
     "execution_count": 61,
     "metadata": {},
     "output_type": "execute_result"
    }
   ],
   "source": [
    "type(rng)"
   ]
  },
  {
   "cell_type": "markdown",
   "id": "4a2fc51d",
   "metadata": {},
   "source": [
    "# Functions"
   ]
  },
  {
   "cell_type": "code",
   "execution_count": 62,
   "id": "c49392fc",
   "metadata": {},
   "outputs": [
    {
     "name": "stderr",
     "output_type": "stream",
     "text": [
      "C:\\Users\\ICT\\AppData\\Local\\Temp\\ipykernel_10652\\416788365.py:2: RuntimeWarning: invalid value encountered in sqrt\n",
      "  np.sqrt(data)\n"
     ]
    },
    {
     "data": {
      "text/plain": [
       "array([[       nan, 1.12415678,        nan],\n",
       "       [       nan,        nan,        nan]])"
      ]
     },
     "execution_count": 62,
     "metadata": {},
     "output_type": "execute_result"
    }
   ],
   "source": [
    "#ufunc\n",
    "np.sqrt(data)"
   ]
  },
  {
   "cell_type": "code",
   "execution_count": 63,
   "id": "4250c1ca",
   "metadata": {},
   "outputs": [
    {
     "data": {
      "text/plain": [
       "array([[0.24079122, 3.53859041, 0.4186744 ],\n",
       "       [0.77168933, 0.92742504, 0.47669202]])"
      ]
     },
     "execution_count": 63,
     "metadata": {},
     "output_type": "execute_result"
    }
   ],
   "source": [
    "np.exp(data)"
   ]
  },
  {
   "cell_type": "code",
   "execution_count": 101,
   "id": "7228795b",
   "metadata": {},
   "outputs": [],
   "source": [
    "X = rng.standard_normal(8)\n",
    "y = rng.standard_normal(8)"
   ]
  },
  {
   "cell_type": "code",
   "execution_count": 102,
   "id": "e33c1922",
   "metadata": {},
   "outputs": [
    {
     "data": {
      "text/plain": [
       "array([-0.72083767,  1.12062282, -0.05481416, -0.08241372,  0.9359865 ,\n",
       "        1.23853712,  1.27279553,  0.40589222])"
      ]
     },
     "execution_count": 102,
     "metadata": {},
     "output_type": "execute_result"
    }
   ],
   "source": [
    "X"
   ]
  },
  {
   "cell_type": "code",
   "execution_count": 103,
   "id": "f36cee25",
   "metadata": {},
   "outputs": [
    {
     "data": {
      "text/plain": [
       "array([-0.05032522,  0.28931754,  0.17930568,  1.39748056,  0.29204679,\n",
       "        0.63840567, -0.02788771,  1.37105185])"
      ]
     },
     "execution_count": 103,
     "metadata": {},
     "output_type": "execute_result"
    }
   ],
   "source": [
    "y"
   ]
  },
  {
   "cell_type": "code",
   "execution_count": 65,
   "id": "3754f975",
   "metadata": {},
   "outputs": [
    {
     "data": {
      "text/plain": [
       "array([-0.46695317,  0.6488928 ,  0.78884434, -1.25666813,  2.34740965,\n",
       "        1.39897899,  1.32229806,  0.90219827])"
      ]
     },
     "execution_count": 65,
     "metadata": {},
     "output_type": "execute_result"
    }
   ],
   "source": [
    "max = np.maximum(X,y)\n",
    "max"
   ]
  },
  {
   "cell_type": "code",
   "execution_count": 66,
   "id": "d8ce7481",
   "metadata": {},
   "outputs": [],
   "source": [
    "remainder, whole_part=np.modf(max)"
   ]
  },
  {
   "cell_type": "code",
   "execution_count": 67,
   "id": "d51b8ebc",
   "metadata": {},
   "outputs": [
    {
     "data": {
      "text/plain": [
       "array([-0.46695317,  0.6488928 ,  0.78884434, -0.25666813,  0.34740965,\n",
       "        0.39897899,  0.32229806,  0.90219827])"
      ]
     },
     "execution_count": 67,
     "metadata": {},
     "output_type": "execute_result"
    }
   ],
   "source": [
    "remainder"
   ]
  },
  {
   "cell_type": "code",
   "execution_count": 68,
   "id": "8e5358b7",
   "metadata": {},
   "outputs": [
    {
     "data": {
      "text/plain": [
       "array([-0.,  0.,  0., -1.,  2.,  1.,  1.,  0.])"
      ]
     },
     "execution_count": 68,
     "metadata": {},
     "output_type": "execute_result"
    }
   ],
   "source": [
    "whole_part"
   ]
  },
  {
   "cell_type": "code",
   "execution_count": 69,
   "id": "7a979f93",
   "metadata": {},
   "outputs": [],
   "source": [
    "out = np.zeros_like(max)"
   ]
  },
  {
   "cell_type": "code",
   "execution_count": 70,
   "id": "3abac435",
   "metadata": {},
   "outputs": [
    {
     "data": {
      "text/plain": [
       "array([ 0.53304683,  1.6488928 ,  1.78884434, -0.25666813,  3.34740965,\n",
       "        2.39897899,  2.32229806,  1.90219827])"
      ]
     },
     "execution_count": 70,
     "metadata": {},
     "output_type": "execute_result"
    }
   ],
   "source": [
    "np.add(max,1)"
   ]
  },
  {
   "cell_type": "code",
   "execution_count": 71,
   "id": "a78eb78c",
   "metadata": {},
   "outputs": [
    {
     "data": {
      "text/plain": [
       "array([ 0.53304683,  1.6488928 ,  1.78884434, -0.25666813,  3.34740965,\n",
       "        2.39897899,  2.32229806,  1.90219827])"
      ]
     },
     "execution_count": 71,
     "metadata": {},
     "output_type": "execute_result"
    }
   ],
   "source": [
    "np.add(max,1,out=out)#Ufuncs accept an optional out argument that allows them to assign their results into\n",
    " #an existing array rather than create a new one"
   ]
  },
  {
   "cell_type": "code",
   "execution_count": 72,
   "id": "b5baa224",
   "metadata": {},
   "outputs": [
    {
     "data": {
      "text/plain": [
       "array([ 0.53304683,  1.6488928 ,  1.78884434, -0.25666813,  3.34740965,\n",
       "        2.39897899,  2.32229806,  1.90219827])"
      ]
     },
     "execution_count": 72,
     "metadata": {},
     "output_type": "execute_result"
    }
   ],
   "source": [
    "out"
   ]
  },
  {
   "cell_type": "markdown",
   "id": "26ab9ad7",
   "metadata": {},
   "source": [
    "# Expressing Conditional Logic as Array Operations"
   ]
  },
  {
   "cell_type": "code",
   "execution_count": 73,
   "id": "50104a8a",
   "metadata": {},
   "outputs": [],
   "source": [
    "xarr = np.array([1.1, 1.2, 1.3, 1.4, 1.5])\n",
    "yarr = np.array([2.1, 2.2, 2.3, 2.4, 2.5])\n",
    "cond = np.array([True, False, True, True, False])"
   ]
  },
  {
   "cell_type": "code",
   "execution_count": 74,
   "id": "8c368d41",
   "metadata": {},
   "outputs": [],
   "source": [
    "#The numpy.where function is a vectorized version of the ternary expression x if\n",
    "#condition else y\n",
    "result= np.where(cond,xarr,yarr)    \n",
    "    "
   ]
  },
  {
   "cell_type": "code",
   "execution_count": 75,
   "id": "b545d662",
   "metadata": {},
   "outputs": [
    {
     "data": {
      "text/plain": [
       "array([1.1, 2.2, 1.3, 1.4, 2.5])"
      ]
     },
     "execution_count": 75,
     "metadata": {},
     "output_type": "execute_result"
    }
   ],
   "source": [
    "result"
   ]
  },
  {
   "cell_type": "markdown",
   "id": "10aea84a",
   "metadata": {},
   "source": [
    "# Mathematical and Statistical Methods"
   ]
  },
  {
   "cell_type": "code",
   "execution_count": 76,
   "id": "91ed2ddd",
   "metadata": {},
   "outputs": [],
   "source": [
    "arr = rng.standard_normal((5,4))"
   ]
  },
  {
   "cell_type": "code",
   "execution_count": 77,
   "id": "2ae99132",
   "metadata": {},
   "outputs": [
    {
     "data": {
      "text/plain": [
       "array([[ 0.90291934, -1.62158273, -0.15818926,  0.44948393],\n",
       "       [-1.34360107, -0.08168759,  1.72473993,  2.61815943],\n",
       "       [ 0.77736134,  0.8286332 , -0.95898831, -1.20938829],\n",
       "       [-1.41229201,  0.54154683,  0.7519394 , -0.65876032],\n",
       "       [-1.22867499,  0.25755777,  0.31290292, -0.13081169]])"
      ]
     },
     "execution_count": 77,
     "metadata": {},
     "output_type": "execute_result"
    }
   ],
   "source": [
    "arr"
   ]
  },
  {
   "cell_type": "code",
   "execution_count": 78,
   "id": "71c46978",
   "metadata": {},
   "outputs": [
    {
     "data": {
      "text/plain": [
       "0.018063390847970272"
      ]
     },
     "execution_count": 78,
     "metadata": {},
     "output_type": "execute_result"
    }
   ],
   "source": [
    "arr.mean()"
   ]
  },
  {
   "cell_type": "code",
   "execution_count": 80,
   "id": "21505a62",
   "metadata": {},
   "outputs": [
    {
     "data": {
      "text/plain": [
       "array([-2.30428739, -0.07553253,  1.67240467,  1.06868306])"
      ]
     },
     "execution_count": 80,
     "metadata": {},
     "output_type": "execute_result"
    }
   ],
   "source": [
    "arr.sum(axis=0)#where arr.sum(axis=0) means “compute sum down the rows.”"
   ]
  },
  {
   "cell_type": "markdown",
   "id": "6e051807",
   "metadata": {},
   "source": [
    "# Methods for Boolean Arrays"
   ]
  },
  {
   "cell_type": "code",
   "execution_count": 81,
   "id": "e77e3896",
   "metadata": {},
   "outputs": [],
   "source": [
    "arr = rng.standard_normal(100)"
   ]
  },
  {
   "cell_type": "code",
   "execution_count": 82,
   "id": "c8636217",
   "metadata": {},
   "outputs": [
    {
     "data": {
      "text/plain": [
       "52"
      ]
     },
     "execution_count": 82,
     "metadata": {},
     "output_type": "execute_result"
    }
   ],
   "source": [
    "(arr > 0).sum()# Number of positive values"
   ]
  },
  {
   "cell_type": "code",
   "execution_count": 83,
   "id": "2e77667d",
   "metadata": {},
   "outputs": [],
   "source": [
    "bools = np.array([False,False,True])\n"
   ]
  },
  {
   "cell_type": "code",
   "execution_count": 84,
   "id": "779cfd0d",
   "metadata": {},
   "outputs": [
    {
     "data": {
      "text/plain": [
       "True"
      ]
     },
     "execution_count": 84,
     "metadata": {},
     "output_type": "execute_result"
    }
   ],
   "source": [
    "bools.any() # check if one or more values are True"
   ]
  },
  {
   "cell_type": "code",
   "execution_count": 85,
   "id": "5d95304e",
   "metadata": {},
   "outputs": [
    {
     "data": {
      "text/plain": [
       "False"
      ]
     },
     "execution_count": 85,
     "metadata": {},
     "output_type": "execute_result"
    }
   ],
   "source": [
    "bools.all()# check if all are True"
   ]
  },
  {
   "cell_type": "markdown",
   "id": "8907a0fc",
   "metadata": {},
   "source": [
    "# Sorting"
   ]
  },
  {
   "cell_type": "code",
   "execution_count": 86,
   "id": "6dd954bf",
   "metadata": {},
   "outputs": [],
   "source": [
    "arr.sort(axis=0)"
   ]
  },
  {
   "cell_type": "code",
   "execution_count": 87,
   "id": "a8ccf7ae",
   "metadata": {},
   "outputs": [],
   "source": [
    "sorted_arr = np.sort(arr)"
   ]
  },
  {
   "cell_type": "markdown",
   "id": "fb5fdab6",
   "metadata": {},
   "source": [
    "#  Unique and Other Set Logic"
   ]
  },
  {
   "cell_type": "code",
   "execution_count": 88,
   "id": "fd817bfd",
   "metadata": {},
   "outputs": [],
   "source": [
    "names = np.array([\"Bob\", \"Will\", \"Joe\", \"Bob\", \"Will\", \"Joe\", \"Joe\"])"
   ]
  },
  {
   "cell_type": "code",
   "execution_count": 89,
   "id": "920612c5",
   "metadata": {},
   "outputs": [
    {
     "data": {
      "text/plain": [
       "array(['Bob', 'Joe', 'Will'], dtype='<U4')"
      ]
     },
     "execution_count": 89,
     "metadata": {},
     "output_type": "execute_result"
    }
   ],
   "source": [
    "np.unique(names)"
   ]
  },
  {
   "cell_type": "code",
   "execution_count": 90,
   "id": "693675bf",
   "metadata": {},
   "outputs": [
    {
     "data": {
      "text/plain": [
       "array([ True,  True,  True, False, False, False,  True,  True, False])"
      ]
     },
     "execution_count": 90,
     "metadata": {},
     "output_type": "execute_result"
    }
   ],
   "source": [
    "values = np.array([2,3,4,5,6,7,2,3,9])\n",
    "np.in1d(values,[2,3,4])# check for numbers"
   ]
  },
  {
   "cell_type": "markdown",
   "id": "d4f523df",
   "metadata": {},
   "source": [
    "# Linear Algebra"
   ]
  },
  {
   "cell_type": "code",
   "execution_count": 91,
   "id": "17c546f0",
   "metadata": {},
   "outputs": [],
   "source": [
    "#Matrix multiplication\n",
    "x = np.array([[1,2,3],[4,4,6]])\n",
    "y = np.array([[7,2],[3,3],[9,6]])"
   ]
  },
  {
   "cell_type": "code",
   "execution_count": 92,
   "id": "f60371e0",
   "metadata": {},
   "outputs": [],
   "source": [
    "dot = np.dot(x,y)"
   ]
  },
  {
   "cell_type": "code",
   "execution_count": 93,
   "id": "23ec4487",
   "metadata": {},
   "outputs": [
    {
     "data": {
      "text/plain": [
       "array([[40, 26],\n",
       "       [94, 56]])"
      ]
     },
     "execution_count": 93,
     "metadata": {},
     "output_type": "execute_result"
    }
   ],
   "source": [
    "dot"
   ]
  },
  {
   "cell_type": "code",
   "execution_count": 94,
   "id": "bc2a8b32",
   "metadata": {},
   "outputs": [
    {
     "data": {
      "text/plain": [
       "array([ 6., 14.])"
      ]
     },
     "execution_count": 94,
     "metadata": {},
     "output_type": "execute_result"
    }
   ],
   "source": [
    "x@np.ones(3)# @ for multiplication"
   ]
  },
  {
   "cell_type": "code",
   "execution_count": 107,
   "id": "f1fe4e65",
   "metadata": {},
   "outputs": [],
   "source": [
    "#numpy.linalg has a standard set of matrix decompositions and things like inverse\n",
    "#and determinant\n",
    "from numpy.linalg import inv,qr\n",
    "x = rng.standard_normal((5,5))\n",
    "mat = x.T @ x"
   ]
  },
  {
   "cell_type": "code",
   "execution_count": 108,
   "id": "851e4004",
   "metadata": {},
   "outputs": [
    {
     "data": {
      "text/plain": [
       "array([[ 2.13294271e+00,  7.31836073e+00, -1.88232052e+00,\n",
       "        -4.30341975e-01,  1.26059290e+00],\n",
       "       [ 7.31836073e+00,  1.06253817e+02, -2.73083791e+01,\n",
       "        -2.47972420e+00, -3.01488097e+00],\n",
       "       [-1.88232052e+00, -2.73083791e+01,  7.15025224e+00,\n",
       "         6.36426518e-01,  7.79509528e-01],\n",
       "       [-4.30341975e-01, -2.47972420e+00,  6.36426518e-01,\n",
       "         2.71880102e-01, -9.49839275e-02],\n",
       "       [ 1.26059290e+00, -3.01488097e+00,  7.79509528e-01,\n",
       "        -9.49839275e-02,  1.62373236e+00]])"
      ]
     },
     "execution_count": 108,
     "metadata": {},
     "output_type": "execute_result"
    }
   ],
   "source": [
    "inv(mat)"
   ]
  },
  {
   "cell_type": "code",
   "execution_count": 97,
   "id": "5981dfbf",
   "metadata": {},
   "outputs": [
    {
     "data": {
      "text/plain": [
       "array([[ 1.00000000e+00, -4.09867027e-15,  3.65695904e-16,\n",
       "         2.66690457e-17,  1.69759482e-15],\n",
       "       [ 2.57481524e-14,  1.00000000e+00, -2.31651393e-15,\n",
       "        -3.08355940e-15, -1.01207756e-14],\n",
       "       [ 1.98227803e-15, -3.72682546e-18,  1.00000000e+00,\n",
       "        -7.17423133e-16,  3.42639988e-16],\n",
       "       [-5.16365272e-15, -5.44204528e-15,  2.61012633e-15,\n",
       "         1.00000000e+00,  8.51027528e-16],\n",
       "       [ 4.83810534e-15,  6.01702942e-15,  3.76540398e-15,\n",
       "         3.06826748e-15,  1.00000000e+00]])"
      ]
     },
     "execution_count": 97,
     "metadata": {},
     "output_type": "execute_result"
    }
   ],
   "source": [
    "inv(mat) @ mat"
   ]
  },
  {
   "cell_type": "markdown",
   "id": "33a2d368",
   "metadata": {},
   "source": [
    "# Random walk example"
   ]
  },
  {
   "cell_type": "code",
   "execution_count": 98,
   "id": "a671b253",
   "metadata": {},
   "outputs": [],
   "source": [
    "import random\n",
    "import matplotlib.pyplot as plt\n",
    "position= 0\n",
    "walk = [position]\n",
    "nsteps = 1000\n",
    "for _ in range(nsteps):\n",
    "    step = 1 if random.randint(0,1) else -1\n",
    "    position += step\n",
    "    walk.append(position)\n",
    "    "
   ]
  },
  {
   "cell_type": "code",
   "execution_count": 99,
   "id": "b1e19b3d",
   "metadata": {},
   "outputs": [
    {
     "data": {
      "text/plain": [
       "[<matplotlib.lines.Line2D at 0x1fa809a7b10>]"
      ]
     },
     "execution_count": 99,
     "metadata": {},
     "output_type": "execute_result"
    },
    {
     "data": {
      "image/png": "[encoded data removed]",
      "text/plain": [
       "<Figure size 640x480 with 1 Axes>"
      ]
     },
     "metadata": {},
     "output_type": "display_data"
    }
   ],
   "source": [
    "plt.plot(walk[:100])"
   ]
  },
  {
   "cell_type": "code",
   "execution_count": null,
   "id": "760ba31f",
   "metadata": {},
   "outputs": [],
   "source": []
  }
 ],
 "metadata": {
  "kernelspec": {
   "display_name": "'test'",
   "language": "python",
   "name": "test"
  },
  "language_info": {
   "codemirror_mode": {
    "name": "ipython",
    "version": 3
   },
   "file_extension": ".py",
   "mimetype": "text/x-python",
   "name": "python",
   "nbconvert_exporter": "python",
   "pygments_lexer": "ipython3",
   "version": "3.11.5"
  }
 },
 "nbformat": 4,
 "nbformat_minor": 5
}
